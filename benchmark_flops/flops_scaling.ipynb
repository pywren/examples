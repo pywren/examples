{
 "cells": [
  {
   "cell_type": "markdown",
   "metadata": {
    "run_control": {
     "frozen": false,
     "read_only": false
    }
   },
   "source": [
    "# How does compute scale? \n",
    "\n",
    "This uses pywren and the code from `flops_benchmark.ipynb` to test scaling of Lambda. See that notebook for more details. \n"
   ]
  },
  {
   "cell_type": "code",
   "execution_count": 2,
   "metadata": {
    "ExecuteTime": {
     "end_time": "2017-02-28T07:35:36.136438",
     "start_time": "2017-02-28T07:35:34.283296"
    },
    "run_control": {
     "frozen": false,
     "read_only": false
    },
    "scrolled": true
   },
   "outputs": [
    {
     "name": "stdout",
     "output_type": "stream",
     "text": [
      "Populating the interactive namespace from numpy and matplotlib\n"
     ]
    }
   ],
   "source": [
    "%pylab inline\n",
    "import numpy as np\n",
    "import time\n",
    "import flops_benchmark\n",
    "import pandas as pd\n",
    "import pickle\n",
    "import seaborn as sns\n",
    "sns.set_style('whitegrid')\n",
    "import glob\n"
   ]
  },
  {
   "cell_type": "markdown",
   "metadata": {
    "run_control": {
     "frozen": false,
     "read_only": false
    }
   },
   "source": [
    "We use the [ruffus pipeline manager](http://www.ruffus.org.uk/) to run a large number of jobs at varying scales. Each one generates a separate pickle file, which we will later load in. Note that running this many jobs with varying initial conditions can take a long time. "
   ]
  },
  {
   "cell_type": "code",
   "execution_count": 4,
   "metadata": {
    "ExecuteTime": {
     "end_time": "2017-02-28T07:35:36.967928",
     "start_time": "2017-02-28T07:35:36.139705"
    },
    "collapsed": true,
    "run_control": {
     "frozen": false,
     "read_only": false
    }
   },
   "outputs": [
    {
     "name": "stdout",
     "output_type": "stream",
     "text": [
      "\n",
      "________________________________________\n",
      "Tasks which will be run:\n",
      "\n",
      "\n",
      "Task enters queue = 'run_exp' \n",
      "invocation done, dur= 37.72882008552551\n",
      "callset id:  0b1b2272-68b2-423a-b4dc-2dd558af6892\n",
      "jobs done:     1    runtime: 241.5s        6.8 GFLOPS \n",
      "getting results\n",
      "getting status\n",
      "total time 241.51666045188904\n",
      "6.8287936682220725 GFLOPS\n",
      "invocation done, dur= 37.34835124015808\n",
      "callset id:  8fb53356-3ab3-4616-9935-80357bba8d49\n",
      "jobs done:     1    runtime: 241.3s        6.8 GFLOPS \n",
      "getting results\n",
      "getting status\n",
      "total time 241.333425283432\n",
      "6.833978508062162 GFLOPS\n",
      "invocation done, dur= 37.5164315700531\n",
      "callset id:  0186e314-8109-4343-ad99-505bfe96e2f7\n",
      "jobs done:     1    runtime: 236.5s        7.0 GFLOPS \n",
      "getting results\n",
      "getting status\n",
      "total time 236.51258659362793\n",
      "6.973275568195212 GFLOPS\n",
      "invocation done, dur= 37.52056169509888\n",
      "callset id:  f82c7e8d-318e-4f26-8fe6-8f5a754181a5\n",
      "jobs done:    30    runtime: 255.8s      193.5 GFLOPS \n",
      "getting results\n",
      "getting status\n",
      "total time 255.76150560379028\n",
      "193.45375346111803 GFLOPS\n",
      "invocation done, dur= 37.78639817237854\n",
      "callset id:  da0bc577-31d0-4850-8f78-25f34a516120\n",
      "jobs done:    30    runtime: 245.2s      201.8 GFLOPS \n",
      "getting results\n",
      "getting status\n",
      "total time 245.18234872817993\n",
      "201.80091881236336 GFLOPS\n",
      "invocation done, dur= 42.83003234863281\n",
      "callset id:  56122c31-eca2-4706-a872-45fd5f635d81\n",
      "jobs done:    30    runtime: 253.9s      194.9 GFLOPS \n",
      "getting results\n",
      "getting status\n",
      "total time 253.89710521697998\n",
      "194.87431023538522 GFLOPS\n",
      "invocation done, dur= 43.202813148498535\n",
      "callset id:  0ae02d44-847a-40d5-bda7-27a74b413d8b\n",
      "jobs done:   100    runtime: 261.7s      630.3 GFLOPS \n",
      "getting results\n",
      "getting status\n",
      "total time 261.67204093933105\n",
      "630.2803447183661 GFLOPS\n",
      "invocation done, dur= 38.75707125663757\n",
      "callset id:  dadf7582-856a-4f2d-a579-75b0438b349a\n",
      "jobs done:   100    runtime: 243.4s      677.5 GFLOPS \n",
      "getting results\n",
      "getting status\n",
      "total time 243.43887639045715\n",
      "677.4872880281875 GFLOPS\n",
      "invocation done, dur= 38.53977179527283\n",
      "callset id:  f44a9d98-5cdb-4251-bae1-9f95f376b161\n",
      "jobs done:   100    runtime: 246.1s      670.0 GFLOPS \n",
      "getting results\n",
      "getting status\n",
      "total time 246.15020513534546\n",
      "670.0248089401964 GFLOPS\n",
      "invocation done, dur= 44.361311197280884\n",
      "callset id:  d7c207e0-7751-4d81-9f44-f3aaebcd84e0\n",
      "jobs done:   300    runtime: 281.3s     1759.1 GFLOPS \n",
      "getting results\n",
      "getting status\n",
      "total time 281.26481103897095\n",
      "1759.125966278964 GFLOPS\n",
      "invocation done, dur= 44.491164207458496\n",
      "callset id:  d19fdf3d-9681-4f57-ab0b-5b57a2bb26d0\n",
      "jobs done:   300    runtime: 266.4s     1857.5 GFLOPS \n",
      "getting results\n",
      "getting status\n",
      "total time 266.36738538742065\n",
      "1857.5105648897743 GFLOPS\n",
      "invocation done, dur= 44.630672216415405\n",
      "callset id:  5afcc4e6-c7eb-46ff-ab33-3b1e8e4f0ed9\n",
      "jobs done:   300    runtime: 266.0s     1859.9 GFLOPS \n",
      "getting results\n",
      "getting status\n",
      "total time 266.01912784576416\n",
      "1859.9423150731843 GFLOPS\n",
      "invocation done, dur= 47.02257800102234\n",
      "callset id:  da9384e8-4569-4a0f-b29f-3c7cb69554a3\n",
      "jobs done:   600    runtime: 273.8s     3613.8 GFLOPS \n",
      "getting results\n",
      "getting status\n",
      "total time 273.8289451599121\n",
      "3613.7905889405192 GFLOPS\n",
      "invocation done, dur= 45.79680514335632\n",
      "callset id:  80d3fb57-06b1-4567-a206-6dd9235800c7\n",
      "jobs done:   600    runtime: 284.8s     3475.0 GFLOPS \n",
      "getting results\n",
      "getting status\n",
      "total time 284.7662365436554\n",
      "3474.992249815746 GFLOPS\n",
      "invocation done, dur= 45.580913066864014\n",
      "callset id:  43fe9573-0772-4064-87af-3ec8bf8e1df7\n",
      "jobs done:   600    runtime: 270.3s     3661.0 GFLOPS \n",
      "getting results\n",
      "getting status\n",
      "total time 270.30095648765564\n",
      "3660.9580589611865 GFLOPS\n",
      "invocation done, dur= 48.23876595497131\n",
      "callset id:  9e7f693e-48a6-4ed2-b49b-3c70a735734e\n",
      "jobs done:  1000    runtime: 280.1s     5888.2 GFLOPS \n",
      "getting results\n",
      "getting status\n",
      "total time 280.101274728775\n",
      "5888.111160011688 GFLOPS\n",
      "invocation done, dur= 48.782482624053955\n",
      "callset id:  24ed4d79-ee77-436a-8ec5-b822b106fba3\n",
      "jobs done:  1000    runtime: 285.0s     5786.3 GFLOPS \n",
      "getting results\n",
      "getting status\n",
      "total time 285.0313992500305\n",
      "5786.26581493661 GFLOPS\n",
      "invocation done, dur= 49.11972212791443\n",
      "callset id:  ce87365b-cb35-4c50-b14a-ea484db5ee8e\n",
      "jobs done:  1000    runtime: 299.3s     5509.7 GFLOPS \n",
      "getting results\n",
      "getting status\n",
      "total time 299.33832144737244\n",
      "5509.7103294005165 GFLOPS\n",
      "invocation done, dur= 52.107221603393555\n",
      "callset id:  9543301d-a614-49b5-be00-2897171147d7\n",
      "jobs done:  1500    runtime: 463.5s     5337.3 GFLOPS \n",
      "getting results\n",
      "getting status\n",
      "total time 463.5129587650299\n",
      "5337.285863781217 GFLOPS\n",
      "invocation done, dur= 52.06224298477173\n",
      "callset id:  f305677c-22ca-4408-837e-e6f85da7c0cf\n",
      "jobs done:  1500    runtime: 442.1s     5596.0 GFLOPS \n",
      "getting results\n",
      "getting status\n",
      "total time 442.0836100578308\n",
      "5596.002896765113 GFLOPS\n",
      "invocation done, dur= 50.5606369972229\n",
      "callset id:  114a80ba-e79f-4091-9fc7-e4f4babca677\n",
      "jobs done:  1500    runtime: 471.0s     5252.6 GFLOPS \n",
      "getting results\n",
      "getting status\n",
      "total time 470.98863768577576\n",
      "5252.570793749137 GFLOPS\n",
      "invocation done, dur= 54.03393578529358\n",
      "callset id:  0125915f-8aed-4ec9-9713-9af5c94fa5fd\n",
      "jobs done:  2000    runtime: 637.4s     5175.3 GFLOPS \n",
      "getting results\n",
      "getting status\n",
      "total time 637.3607201576233\n",
      "5175.303056818832 GFLOPS\n",
      "invocation done, dur= 55.921082973480225\n",
      "callset id:  07a62656-e11a-4b93-813d-05cf0be966c7\n",
      "jobs done:  2000    runtime: 457.1s     7216.1 GFLOPS \n",
      "getting results\n",
      "getting status\n",
      "total time 457.1096923351288\n",
      "7216.068568744518 GFLOPS\n",
      "invocation done, dur= 53.054959297180176\n",
      "callset id:  25aebc89-ce72-44c6-9315-732ad823ce82\n",
      "jobs done:  2000    runtime: 445.6s     7402.9 GFLOPS \n",
      "getting results\n",
      "getting status\n",
      "total time 445.57767486572266\n",
      "7402.827990253399 GFLOPS\n",
      "invocation done, dur= 60.80046224594116\n",
      "callset id:  0ace7b0f-7563-4293-a0f4-599be4ce3512\n",
      "jobs done:  2800    runtime: 639.2s     7224.3 GFLOPS \n",
      "getting results\n",
      "getting status\n",
      "total time 639.2330656051636\n",
      "7224.2020714109585 GFLOPS\n",
      "invocation done, dur= 59.51654100418091\n",
      "callset id:  5a1c645f-8ad4-4273-8af4-df6365c270ad\n",
      "jobs done:  2800    runtime: 641.0s     7204.3 GFLOPS \n",
      "getting results\n",
      "getting status\n",
      "total time 641.0063602924347\n",
      "7204.2168732186 GFLOPS\n",
      "invocation done, dur= 61.361531019210815\n",
      "callset id:  d223e7d8-3707-4d83-b827-0eb3ff13a166\n",
      "jobs done:  2800    runtime: 644.9s     7160.8 GFLOPS \n",
      "getting results\n",
      "getting status\n",
      "total time 645.1798877716064\n",
      "7157.614371100719 GFLOPS\n",
      "Completed Task = 'run_exp' \n"
     ]
    }
   ],
   "source": [
    "!python run_many_experiments.py"
   ]
  },
  {
   "cell_type": "code",
   "execution_count": 3,
   "metadata": {
    "ExecuteTime": {
     "end_time": "2017-02-28T07:41:38.606510",
     "start_time": "2017-02-28T07:41:33.481850"
    },
    "run_control": {
     "frozen": false,
     "read_only": false
    }
   },
   "outputs": [],
   "source": [
    "all_df = []\n",
    "for filename in glob.glob(\"microbench.*.*.*.*.pickle\"):\n",
    "    exp_results = pickle.load(open(filename, 'rb'))\n",
    "    exp_results['results'] = [x for x in exp_results['results'] if x is not None]\n",
    "    results_df = flops_benchmark.results_to_dataframe(exp_results)\n",
    "    results_df['filename'] = filename\n",
    "    all_df.append(results_df)\n",
    "all_df = pd.concat(all_df)"
   ]
  },
  {
   "cell_type": "code",
   "execution_count": 10,
   "metadata": {
    "ExecuteTime": {
     "end_time": "2017-02-28T07:41:49.227196",
     "start_time": "2017-02-28T07:41:38.608449"
    },
    "run_control": {
     "frozen": false,
     "read_only": false
    }
   },
   "outputs": [],
   "source": [
    "max_time = 1000\n",
    "runtime_bins = np.linspace(0, max_time, max_time, endpoint=False)\n",
    "    \n",
    "filename_hists = {}\n",
    "for fname, df in all_df.groupby('filename'):\n",
    "    \n",
    "    time_offset = np.min(df.host_submit_time)\n",
    "    \n",
    "    runtime_flops_hist = np.zeros((len(df), len(runtime_bins)))\n",
    "    for i in range(len(df)):\n",
    "        row = df.iloc[i]\n",
    "        s = (row.start_time + row.setup_time) - time_offset\n",
    "        e = row.end_time - time_offset\n",
    "        a, b = np.searchsorted(runtime_bins, [s, e])\n",
    "        if b-a > 0:\n",
    "            runtime_flops_hist[i, a:b] = row.est_flops / float(b-a)\n",
    "    filename_hists[fname] = runtime_flops_hist\n",
    "    "
   ]
  },
  {
   "cell_type": "code",
   "execution_count": 11,
   "metadata": {
    "ExecuteTime": {
     "end_time": "2017-02-28T08:05:01.882120",
     "start_time": "2017-02-28T08:05:01.694398"
    },
    "run_control": {
     "frozen": false,
     "read_only": false
    }
   },
   "outputs": [],
   "source": [
    "\n",
    "peak_stats = []\n",
    "for wi, (worker_count, d) in enumerate(all_df.groupby('workers')):\n",
    "    for fname, df in d.groupby('filename'):\n",
    "        agg_hist = filename_hists[fname].sum(axis=0)/1e12\n",
    "        total_time = np.max(df.download_output_timestamp)- np.min(df.host_submit_time)\n",
    "        total_tflops = np.sum(df.est_flops)/1e12\n",
    "        ps = {'worker_count' : worker_count, 'filename' : fname, \n",
    "              'peak_TFLOPS' : np.max(agg_hist), 'effective_TFLOPS': total_tflops/total_time}\n",
    "        peak_stats.append(ps)\n",
    "peak_df = pd.DataFrame(peak_stats)\n"
   ]
  },
  {
   "cell_type": "code",
   "execution_count": 12,
   "metadata": {
    "ExecuteTime": {
     "end_time": "2017-02-28T08:10:27.605746",
     "start_time": "2017-02-28T08:10:27.163086"
    },
    "run_control": {
     "frozen": false,
     "read_only": false
    }
   },
   "outputs": [
    {
     "data": {
      "image/png": "[encoded data removed]",
      "text/plain": [
       "<Figure size 360x360 with 1 Axes>"
      ]
     },
     "metadata": {},
     "output_type": "display_data"
    }
   ],
   "source": [
    "s = peak_df.groupby(['worker_count']).agg({'peak_TFLOPS' : ['mean', 'std', 'min', 'max'], \n",
    "                                           'effective_TFLOPS' : ['mean', 'std', 'min', 'max']}, \n",
    "                                         )\n",
    "fig = pylab.figure(figsize=(5, 5))\n",
    "ax = fig.add_subplot(1, 1, 1)\n",
    "\n",
    "ax.scatter(s.index.values, s.peak_TFLOPS['mean'] ,c='b', label='peak')\n",
    "ax.errorbar(np.array(s.index.values), np.array(s.peak_TFLOPS['mean']), \n",
    "            yerr=np.array(s.peak_TFLOPS['std']), ecolor='b', c='b', label=None)\n",
    "ax.scatter(s.index.values, s.effective_TFLOPS['mean'] ,c='g', label='effective')\n",
    "ax.errorbar(np.array(s.index.values), np.array(s.effective_TFLOPS['mean']),  c='g',\n",
    "            yerr=np.array(s.effective_TFLOPS['std']), ecolor='g', label=None)\n",
    "ax.grid(False)\n",
    "ax.set_xlim(0, 2900)\n",
    "ax.set_ylim(0, 50)\n",
    "ax.set_xlabel('workers')\n",
    "ax.set_ylabel('aggregate TFLOPS')\n",
    "s.peak_TFLOPS['mean']\n",
    "\n",
    "ax.spines['top'].set_visible(False)\n",
    "ax.spines['right'].set_visible(False)\n",
    "ax.legend(loc='upper left')\n",
    "fig.tight_layout()\n",
    "fig.savefig(\"flops_scaling.flops.png\")\n"
   ]
  },
  {
   "cell_type": "markdown",
   "metadata": {
    "ExecuteTime": {
     "end_time": "2017-02-28T07:42:23.582298",
     "start_time": "2017-02-28T07:42:23.570111"
    },
    "run_control": {
     "frozen": false,
     "read_only": false
    }
   },
   "source": [
    "We'll make a small version of the plot for use elsewhere. "
   ]
  },
  {
   "cell_type": "code",
   "execution_count": 13,
   "metadata": {
    "ExecuteTime": {
     "end_time": "2017-02-28T08:10:46.404075",
     "start_time": "2017-02-28T08:10:46.137042"
    },
    "run_control": {
     "frozen": false,
     "read_only": false
    }
   },
   "outputs": [
    {
     "data": {
      "image/png": "[encoded data removed]",
      "text/plain": [
       "<Figure size 180x180 with 1 Axes>"
      ]
     },
     "metadata": {},
     "output_type": "display_data"
    }
   ],
   "source": [
    "fig = pylab.figure(figsize=(2.5, 2.5))\n",
    "ax = fig.add_subplot(1, 1, 1)\n",
    "\n",
    "ax.scatter(s.index.values, s.peak_TFLOPS['mean'] ,c='b', label='peak')\n",
    "ax.errorbar(np.array(s.index.values), np.array(s.peak_TFLOPS['mean']), \n",
    "            yerr=np.array(s.peak_TFLOPS['std']), ecolor='b', c='b', label=None)\n",
    "ax.scatter(s.index.values, s.effective_TFLOPS['mean'] ,c='g', label='effective')\n",
    "ax.errorbar(np.array(s.index.values), np.array(s.effective_TFLOPS['mean']),  c='g',\n",
    "            yerr=np.array(s.effective_TFLOPS['std']), ecolor='g', label=None)\n",
    "ax.grid(False)\n",
    "#ax.set_xlim(0, 2900)\n",
    "#ax.set_ylim(0, 50)\n",
    "ax.set_xlabel('workers')\n",
    "ax.set_ylabel('aggregate TFLOPS')\n",
    "#s.peak_TFLOPS['mean']\n",
    "\n",
    "ax.spines['top'].set_visible(False)\n",
    "ax.spines['right'].set_visible(False)\n",
    "ax.set_xticks([0, 2800])\n",
    "ax.set_yticks([0, 40])\n",
    "ax.set_xlim(0, 2900)\n",
    "ax.set_ylim(0, 45)\n",
    "ax.legend(loc='upper left')\n",
    "\n",
    "fig.tight_layout()\n",
    "\n",
    "fig.savefig(\"flops_scaling.flops.small.png\")\n"
   ]
  }
 ],
 "metadata": {
  "anaconda-cloud": {},
  "kernelspec": {
   "display_name": "Python 3",
   "language": "python",
   "name": "python3"
  },
  "language_info": {
   "codemirror_mode": {
    "name": "ipython",
    "version": 3
   },
   "file_extension": ".py",
   "mimetype": "text/x-python",
   "name": "python",
   "nbconvert_exporter": "python",
   "pygments_lexer": "ipython3",
   "version": "3.6.5"
  },
  "toc": {
   "nav_menu": {
    "height": "66px",
    "width": "252px"
   },
   "navigate_menu": true,
   "number_sections": true,
   "sideBar": true,
   "threshold": 4,
   "toc_cell": false,
   "toc_section_display": "block",
   "toc_window_display": false
  }
 },
 "nbformat": 4,
 "nbformat_minor": 1
}
