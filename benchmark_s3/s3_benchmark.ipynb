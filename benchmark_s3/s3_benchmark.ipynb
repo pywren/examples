{
 "cells": [
  {
   "cell_type": "markdown",
   "metadata": {
    "run_control": {
     "frozen": false,
     "read_only": false
    }
   },
   "source": [
    "# Benchmarking S3 performance with pywren and AWS Lambda\n"
   ]
  },
  {
   "cell_type": "code",
   "execution_count": 1,
   "metadata": {
    "ExecuteTime": {
     "end_time": "2017-02-28T15:23:00.249109",
     "start_time": "2017-02-28T15:22:58.624921"
    },
    "run_control": {
     "frozen": false,
     "read_only": false
    },
    "scrolled": true
   },
   "outputs": [
    {
     "name": "stdout",
     "output_type": "stream",
     "text": [
      "Populating the interactive namespace from numpy and matplotlib\n"
     ]
    }
   ],
   "source": [
    "%pylab inline\n",
    "import numpy as np\n",
    "import time\n",
    "import s3_benchmark\n",
    "import pandas as pd\n",
    "import pickle\n",
    "import seaborn as sns\n",
    "sns.set_style('whitegrid')\n"
   ]
  },
  {
   "cell_type": "markdown",
   "metadata": {
    "run_control": {
     "frozen": false,
     "read_only": false
    }
   },
   "source": [
    "## Getting Started \n",
    "\n",
    "We are going to benchmark S3 by writing a large amount of data to a bucket, and then reading that data back. I created a bucket, `jonas-pywren-benchmark`, specifically for this purpose. "
   ]
  },
  {
   "cell_type": "code",
   "execution_count": 26,
   "metadata": {
    "ExecuteTime": {
     "end_time": "2017-02-28T13:34:46.018500",
     "start_time": "2017-02-28T13:34:34.009541"
    },
    "run_control": {
     "frozen": false,
     "read_only": false
    }
   },
   "outputs": [],
   "source": [
    "!python s3_benchmark.py write --bucket_name=jonas-pywren-benchmark --mb_per_file=2000 \\\n",
    "--number=2000 --outfile=write.pickle"
   ]
  },
  {
   "cell_type": "markdown",
   "metadata": {
    "run_control": {
     "frozen": false,
     "read_only": false
    }
   },
   "source": [
    "We then run the read test"
   ]
  },
  {
   "cell_type": "code",
   "execution_count": 27,
   "metadata": {
    "ExecuteTime": {
     "end_time": "2017-02-28T13:35:52.454900",
     "start_time": "2017-02-28T13:34:46.022541"
    },
    "run_control": {
     "frozen": false,
     "read_only": false
    }
   },
   "outputs": [],
   "source": [
    "!python s3_benchmark.py read --key_file=write.pickle --outfile=read.pickle"
   ]
  },
  {
   "cell_type": "markdown",
   "metadata": {
    "run_control": {
     "frozen": false,
     "read_only": false
    }
   },
   "source": [
    "We pick some default consistent colors, and set up some code for preprocessing the results"
   ]
  },
  {
   "cell_type": "code",
   "execution_count": 28,
   "metadata": {
    "ExecuteTime": {
     "end_time": "2017-02-28T15:53:29.810421",
     "start_time": "2017-02-28T15:53:28.177439"
    },
    "run_control": {
     "frozen": false,
     "read_only": false
    }
   },
   "outputs": [],
   "source": [
    "current_palette = sns.color_palette()\n",
    "read_color = current_palette[0]\n",
    "write_color = current_palette[1]\n",
    "\n",
    "runtime_bins = np.linspace(0, 150, 150)\n",
    "\n",
    "    \n",
    "def compute_times_rates(d):\n",
    "    \n",
    "    x = np.array(d)\n",
    "    tzero = np.min(x[:, 0])\n",
    "    start_time = x[:, 0] - tzero\n",
    "    end_time = x[:, 1]  - tzero\n",
    "    rate = x[:, 2]\n",
    "\n",
    "    N = len(start_time)\n",
    "\n",
    "    runtime_rate_hist = np.zeros((N, len(runtime_bins)))\n",
    "    runtime_jobs_hist = np.zeros((N, len(runtime_bins)))\n",
    "\n",
    "    for i in range(N):\n",
    "        s = start_time[i]\n",
    "        e = end_time[i]\n",
    "        a, b = np.searchsorted(runtime_bins, [s, e])\n",
    "        if b-a > 0:\n",
    "            runtime_rate_hist[i, a:b] = rate[i]\n",
    "            runtime_jobs_hist[i, a:b] = 1\n",
    "\n",
    "    return {'start_time' : start_time, \n",
    "            'end_time' : end_time, \n",
    "            'rate' : rate, \n",
    "            'runtime_rate_hist' : runtime_rate_hist, \n",
    "            'runtime_jobs_hist' : runtime_jobs_hist}\n",
    "\n",
    "write_data = pickle.load(open(\"write.pickle\", 'rb'))\n",
    "write = compute_times_rates(write_data['results'])\n",
    "\n",
    "read_data = pickle.load(open(\"read.pickle\", 'rb'))\n",
    "read_time_results = [r[:3] for r in read_data['results']]\n",
    "read  = compute_times_rates(read_time_results)\n"
   ]
  },
  {
   "cell_type": "markdown",
   "metadata": {
    "run_control": {
     "frozen": false,
     "read_only": false
    }
   },
   "source": [
    "What is the distribution of read and write rates to S3 from our 2000 lambdas?"
   ]
  },
  {
   "cell_type": "code",
   "execution_count": 29,
   "metadata": {
    "ExecuteTime": {
     "end_time": "2017-02-28T15:53:30.307187",
     "start_time": "2017-02-28T15:53:29.812373"
    },
    "run_control": {
     "frozen": false,
     "read_only": false
    }
   },
   "outputs": [
    {
     "data": {
      "image/png": "[encoded data removed]",
      "text/plain": [
       "<Figure size 288x216 with 1 Axes>"
      ]
     },
     "metadata": {},
     "output_type": "display_data"
    }
   ],
   "source": [
    "fig = pylab.figure(figsize=(4, 3))\n",
    "sns.distplot(read['rate'], label='read', color=read_color)\n",
    "sns.distplot(write['rate'], label='write', color=write_color)\n",
    "pylab.legend()\n",
    "pylab.xlabel(\"MB/sec\")\n",
    "pylab.grid(False)\n",
    "pylab.title(\"Read/Write rates per worker\")\n",
    "fig.savefig(\"s3_benchmark.rates.png\")\n",
    "sns.despine()\n",
    "fig.savefig(\"s3_benchmark.rates.png\")"
   ]
  },
  {
   "cell_type": "markdown",
   "metadata": {
    "run_control": {
     "frozen": false,
     "read_only": false
    }
   },
   "source": [
    "We can investigate when jobs start and how long they run. Each horizontal line is a job, and then plotted on top is the aggregate number of jobs running at that moment. "
   ]
  },
  {
   "cell_type": "code",
   "execution_count": 30,
   "metadata": {
    "ExecuteTime": {
     "end_time": "2017-02-28T15:53:30.921481",
     "start_time": "2017-02-28T15:53:30.308690"
    },
    "run_control": {
     "frozen": false,
     "read_only": false
    }
   },
   "outputs": [
    {
     "data": {
      "image/png": "[encoded data removed]",
      "text/plain": [
       "<Figure size 576x288 with 2 Axes>"
      ]
     },
     "metadata": {},
     "output_type": "display_data"
    }
   ],
   "source": [
    "from matplotlib.collections import LineCollection\n",
    "\n",
    "    \n",
    "fig = pylab.figure(figsize=(8, 4))\n",
    "\n",
    "for plot_i, (datum, l, c) in enumerate([(read, 'read', read_color), \n",
    "                                    (write, 'write', write_color)]):\n",
    "    ax = fig.add_subplot(1, 2, 1 + plot_i)\n",
    "\n",
    "    N = len(datum['start_time'])\n",
    "    line_segments = LineCollection([[[datum['start_time'][i], i], \n",
    "                                     [datum['end_time'][i], i]] for i in range(N)],\n",
    "                                   linestyles='solid', color='k', alpha=0.05, linewidth=0.4)\n",
    "    #line_segments.set_array(x)\n",
    "\n",
    "    ax.add_collection(line_segments)\n",
    "\n",
    "    ax.plot(runtime_bins, datum['runtime_jobs_hist'].sum(axis=0), \n",
    "            c=c, label='active jobs total', \n",
    "           zorder=-1)\n",
    "\n",
    "\n",
    "    ax.set_xlim(0, np.max(datum['end_time']))\n",
    "    ax.set_ylim(0, len(datum['start_time'])*1.05)\n",
    "    ax.set_xlabel(\"time (sec)\")\n",
    "    if plot_i == 0:\n",
    "        ax.set_ylabel(\"job id\")\n",
    "    else:\n",
    "        ax.set_yticks([])\n",
    "    ax.grid(False)\n",
    "    ax.legend(loc='lower right')\n",
    "fig.tight_layout()\n",
    "fig.savefig(\"s3_benchmark.workers.png\")"
   ]
  },
  {
   "cell_type": "code",
   "execution_count": 31,
   "metadata": {
    "ExecuteTime": {
     "end_time": "2017-02-28T15:53:31.143363",
     "start_time": "2017-02-28T15:53:30.923109"
    },
    "run_control": {
     "frozen": false,
     "read_only": false
    }
   },
   "outputs": [
    {
     "data": {
      "image/png": "[encoded data removed]",
      "text/plain": [
       "<Figure size 288x216 with 1 Axes>"
      ]
     },
     "metadata": {},
     "output_type": "display_data"
    }
   ],
   "source": [
    "fig = pylab.figure(figsize=(4, 3))\n",
    "ax = fig.add_subplot(1, 1, 1)\n",
    "for d, l, c in [(read, 'read', read_color), (write, 'write', write_color)]:\n",
    "    \n",
    "    ax.plot(d['runtime_rate_hist'].sum(axis=0)/1000, label=l, c=c)\n",
    "ax.set_xlabel('time (sec)')\n",
    "ax.set_ylabel(\"GB/sec\")\n",
    "pylab.legend()\n",
    "ax.grid(False)\n",
    "sns.despine()\n",
    "fig.tight_layout()\n",
    "fig.savefig(\"s3_benchmark.tput.png\")"
   ]
  }
 ],
 "metadata": {
  "anaconda-cloud": {},
  "kernelspec": {
   "display_name": "Python 3",
   "language": "python",
   "name": "python3"
  },
  "language_info": {
   "codemirror_mode": {
    "name": "ipython",
    "version": 3
   },
   "file_extension": ".py",
   "mimetype": "text/x-python",
   "name": "python",
   "nbconvert_exporter": "python",
   "pygments_lexer": "ipython3",
   "version": "3.6.5"
  },
  "toc": {
   "nav_menu": {
    "height": "66px",
    "width": "252px"
   },
   "navigate_menu": true,
   "number_sections": true,
   "sideBar": true,
   "threshold": 4,
   "toc_cell": false,
   "toc_section_display": "block",
   "toc_window_display": false
  }
 },
 "nbformat": 4,
 "nbformat_minor": 1
}
