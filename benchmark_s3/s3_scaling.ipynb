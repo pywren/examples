{
 "cells": [
  {
   "cell_type": "markdown",
   "metadata": {},
   "source": [
    "# How does S3 access scale? \n",
    "\n",
    "We can measure how our S3 performance varies as a function of the number of simultaneous workers. We follow the example from `s3_benchmark.ipynb`, see that notebook for more details"
   ]
  },
  {
   "cell_type": "code",
   "execution_count": 1,
   "metadata": {
    "ExecuteTime": {
     "end_time": "2017-03-01T04:45:53.062583",
     "start_time": "2017-03-01T04:45:51.988258"
    },
    "run_control": {
     "frozen": false,
     "read_only": false
    }
   },
   "outputs": [
    {
     "name": "stdout",
     "output_type": "stream",
     "text": [
      "Populating the interactive namespace from numpy and matplotlib\n"
     ]
    }
   ],
   "source": [
    "%pylab inline\n",
    "import numpy as np\n",
    "import pandas as pd\n",
    "import pickle\n",
    "import seaborn as sns\n",
    "sns.set_style('whitegrid')\n",
    "import os\n",
    "from glob2 import glob\n",
    "import matplotlib.patches as mpatches\n"
   ]
  },
  {
   "cell_type": "markdown",
   "metadata": {},
   "source": [
    "We use the [ruffus pipeline manager](http://www.ruffus.org.uk/) to run a large number of jobs at varying scales. Each one generates a separate pickle file, which we will later load in. Note that running this many jobs with varying initial conditions can take a long time.\n",
    "\n",
    "run the command\n",
    "```\n",
    "python run_many_experiments.py\n",
    "``` \n",
    "which will run sequentially vary the number of workers and save the results into a `s3_microbench.*.pickle` file. We then aggregate all of the data into a series of data frames"
   ]
  },
  {
   "cell_type": "code",
   "execution_count": 2,
   "metadata": {
    "ExecuteTime": {
     "end_time": "2017-03-01T04:46:09.061096",
     "start_time": "2017-03-01T04:45:53.064786"
    },
    "run_control": {
     "frozen": false,
     "read_only": false
    }
   },
   "outputs": [],
   "source": [
    "# this IO is slightly more complex, in that we do some later joins\n",
    "# and keep track of unique keys as UUIDs\n",
    "\n",
    "job_results_df = []\n",
    "expdf = []\n",
    "for filename in glob(\"s3_microbench.*.pickle\"):\n",
    "    benchmark_data = pickle.load(open(filename, 'rb'))\n",
    "    write_results = benchmark_data['write_results']\n",
    "    read_results = benchmark_data['read_results']\n",
    "    \n",
    "    keynames = write_results['keynames']\n",
    "    \n",
    "    exp = pd.DataFrame({'keyname' : keynames})\n",
    "    exp['workers'] = benchmark_data['workers']\n",
    "    exp['seed'] = benchmark_data['seed']\n",
    "    exp['mb_per_file'] = benchmark_data['mb_per_file']\n",
    "    exp['read_start_timestamp'] = benchmark_data['read_start_timestamp']\n",
    "    exp['write_start_timestamp'] = benchmark_data['write_start_timestamp']\n",
    "    exp['read_done_timestamp'] = benchmark_data['read_done_timestamp']\n",
    "    exp['filename'] = filename\n",
    "    for df, phase in [(read_results, 'read'), (write_results, 'write')]:\n",
    "        \n",
    "        results_df = pd.DataFrame(df['run_statuses'])\n",
    "        invoke_df = pd.DataFrame(df['invoke_statuses'])\n",
    "        func_results = pd.DataFrame([{'s3_txn_start_timestamp' : a[0], \n",
    "                                      's3_txn_end_timestamp' : a[1], \n",
    "                                      's3_txn_rate' : a[2]} for a in df['results']])\n",
    "        \n",
    "        results_df = pd.concat([results_df, invoke_df, func_results], axis=1)\n",
    "        Cols = list(results_df.columns)\n",
    "        for i,item in enumerate(results_df.columns):\n",
    "            if item in results_df.columns[:i]: Cols[i] = \"toDROP\"\n",
    "        results_df.columns = Cols\n",
    "        results_df = results_df.drop(\"toDROP\",1)\n",
    "        results_df['keyname'] = keynames\n",
    "        results_df['phase'] = phase\n",
    "        results_df['filename'] = filename\n",
    "        job_results_df.append(results_df)\n",
    "    expdf.append(exp)\n",
    "                    \n",
    "job_results_df = pd.concat(job_results_df)            \n",
    "expdf = pd.concat(expdf)"
   ]
  },
  {
   "cell_type": "code",
   "execution_count": 3,
   "metadata": {
    "ExecuteTime": {
     "end_time": "2017-03-01T05:49:02.521296",
     "start_time": "2017-03-01T05:49:02.497859"
    },
    "run_control": {
     "frozen": false,
     "read_only": false
    }
   },
   "outputs": [],
   "source": [
    "# compute rates\n",
    "expdf['total_mb'] = expdf.workers * expdf.mb_per_file\n",
    "expdf['read_time'] = expdf.read_done_timestamp - expdf.read_start_timestamp\n",
    "expdf['write_time'] = expdf.read_start_timestamp - expdf.write_start_timestamp\n",
    "expdf['read_rate'] = expdf.total_mb / expdf.read_time\n",
    "expdf['write_rate'] = expdf.total_mb / expdf.write_time\n"
   ]
  },
  {
   "cell_type": "code",
   "execution_count": 16,
   "metadata": {
    "ExecuteTime": {
     "end_time": "2017-03-01T04:46:12.056643",
     "start_time": "2017-03-01T04:46:09.170297"
    },
    "run_control": {
     "frozen": false,
     "read_only": false
    }
   },
   "outputs": [
    {
     "data": {
      "text/plain": [
       "<seaborn.axisgrid.FacetGrid at 0x7fd3f8963ac8>"
      ]
     },
     "execution_count": 16,
     "metadata": {},
     "output_type": "execute_result"
    },
    {
     "data": {
      "image/png": "[encoded data removed]",
      "text/plain": [
       "<Figure size 425.875x360 with 1 Axes>"
      ]
     },
     "metadata": {},
     "output_type": "display_data"
    }
   ],
   "source": [
    "sns.lmplot(x='workers', y='read_rate', data=expdf, hue='mb_per_file')"
   ]
  },
  {
   "cell_type": "code",
   "execution_count": 5,
   "metadata": {
    "ExecuteTime": {
     "end_time": "2017-03-01T04:46:12.075597",
     "start_time": "2017-03-01T04:46:12.058030"
    },
    "run_control": {
     "frozen": false,
     "read_only": false
    }
   },
   "outputs": [],
   "source": [
    "expdf_top = expdf.groupby('filename').first()"
   ]
  },
  {
   "cell_type": "code",
   "execution_count": 6,
   "metadata": {
    "ExecuteTime": {
     "end_time": "2017-03-01T04:46:36.528596",
     "start_time": "2017-03-01T04:46:12.078430"
    },
    "run_control": {
     "frozen": false,
     "read_only": false
    }
   },
   "outputs": [],
   "source": [
    "# get distribution of job agg s3 performance\n",
    "# note that this depends on lambda clocks being correct\n",
    "\n",
    "\n",
    "max_time = 2000\n",
    "runtime_bins = np.linspace(0, max_time, max_time, endpoint=False)\n",
    "filename_hists = {'read' : {}, \n",
    "                  'write' : {} }\n",
    "    \n",
    "for fname, file_df in job_results_df.groupby([ 'filename']):\n",
    "\n",
    "    for phase, df in file_df.groupby('phase'):\n",
    "        time_offset = np.min(df.host_submit_time)\n",
    "\n",
    "        runtime_rate_hist = np.zeros((len(df), len(runtime_bins)))\n",
    "        for i in range(len(df)):\n",
    "            row = df.iloc[i]\n",
    "            s = row.s3_txn_start_timestamp - time_offset\n",
    "            e = row.s3_txn_end_timestamp  - time_offset\n",
    "            a, b = np.searchsorted(runtime_bins, [s, e])\n",
    "            if b-a > 0:\n",
    "                runtime_rate_hist[i, a:b] = row.s3_txn_rate\n",
    "        filename_hists[phase][fname] = runtime_rate_hist\n"
   ]
  },
  {
   "cell_type": "code",
   "execution_count": 10,
   "metadata": {
    "ExecuteTime": {
     "end_time": "2017-03-01T04:58:07.230148",
     "start_time": "2017-03-01T04:58:05.937628"
    },
    "run_control": {
     "frozen": false,
     "read_only": false
    }
   },
   "outputs": [
    {
     "data": {
      "image/png": "[encoded data removed]",
      "text/plain": [
       "<Figure size 864x288 with 2 Axes>"
      ]
     },
     "metadata": {},
     "output_type": "display_data"
    }
   ],
   "source": [
    "\n",
    "palette = sns.color_palette(\"deep\", 20)\n",
    "fig = pylab.figure(figsize=(12, 4))\n",
    "peak_stats = []\n",
    "for p_i, phase in enumerate(['read', 'write']):\n",
    "    patches = []\n",
    "    ax = fig.add_subplot(1, 2, 1 + p_i)\n",
    "    for wi, (worker_count, d) in enumerate(expdf[expdf.mb_per_file==1000].groupby('workers')):\n",
    "        for fname, df in d.groupby('filename'):\n",
    "            agg_hist = filename_hists[phase][fname].sum(axis=0)/1e3\n",
    "            ps = {'worker_count' : worker_count, 'filename' : fname, 'peak_GBs' : np.max(agg_hist), \n",
    "                 'phase' : phase}\n",
    "            peak_stats.append(ps)\n",
    "            ax.plot(runtime_bins, agg_hist, c=palette[wi])# , label=df.workers)\n",
    "        patches.append(mpatches.Patch(color=palette[wi], label=\"{}\".format(worker_count)))\n",
    "    ax.set_xlim(0, 110)\n",
    "    legend = pylab.legend(handles=patches, \n",
    "                          loc='upper right', frameon=True)\n",
    "    #ax.set_yscale(\"log\", nonposy='clip')\n",
    "    ax.set_ylim(0, 90)\n",
    "    ax.set_xlabel(\"time (sec)\")\n",
    "    ax.set_ylabel(\"simultaneous agg GB/sec\")\n",
    "    ax.set_title(\"S3 bulk IO : {}\".format(phase))\n",
    "    ax.grid(False)\n",
    "fig.savefig(\"s3_scaling.simultaneous_vs_workers.png\")\n"
   ]
  },
  {
   "cell_type": "code",
   "execution_count": 11,
   "metadata": {
    "ExecuteTime": {
     "end_time": "2017-03-01T04:58:23.328296",
     "start_time": "2017-03-01T04:58:22.527744"
    },
    "run_control": {
     "frozen": false,
     "read_only": false
    }
   },
   "outputs": [
    {
     "data": {
      "text/plain": [
       "(0, 100)"
      ]
     },
     "execution_count": 11,
     "metadata": {},
     "output_type": "execute_result"
    },
    {
     "data": {
      "image/png": "[encoded data removed]",
      "text/plain": [
       "<Figure size 421.125x360 with 1 Axes>"
      ]
     },
     "metadata": {},
     "output_type": "display_data"
    }
   ],
   "source": [
    "peak_df = pd.DataFrame(peak_stats)\n",
    "sns.lmplot(x='worker_count', y='peak_GBs', data=peak_df, hue='phase')\n",
    "pylab.xlim(0, 3200)\n",
    "pylab.ylim(0, 100)"
   ]
  },
  {
   "cell_type": "code",
   "execution_count": 12,
   "metadata": {
    "ExecuteTime": {
     "end_time": "2017-03-01T05:44:12.533002",
     "start_time": "2017-03-01T05:44:12.233941"
    },
    "run_control": {
     "frozen": false,
     "read_only": false
    }
   },
   "outputs": [
    {
     "data": {
      "image/png": "[encoded data removed]",
      "text/plain": [
       "<Figure size 180x180 with 1 Axes>"
      ]
     },
     "metadata": {},
     "output_type": "display_data"
    }
   ],
   "source": [
    "current_palette = sns.color_palette()\n",
    "colors = {'read' : current_palette[0], 'write' : current_palette[1]}\n",
    "s = peak_df.groupby(['worker_count', 'phase'])\\\n",
    "    .agg({'peak_GBs' : ['mean', 'std', 'min', 'max']}).reset_index()\n",
    "fig = pylab.figure(figsize=(2.5, 2.5))\n",
    "ax = fig.add_subplot(1, 1, 1)\n",
    "\n",
    "for phase in ['read', 'write']:\n",
    "    s2 = s[s.phase == phase]\n",
    "    c = colors[phase]\n",
    "    ax.plot(s2.worker_count, s2.peak_GBs['mean'], c=c, label=phase)\n",
    "    ax.scatter(s2.worker_count, s2.peak_GBs['mean'], c=c, label=None)\n",
    "    #ax.fill_between(s.index.values, s.peak_TFLOPS['min'], s.peak_TFLOPS['max'], color='b', alpha=0.2)\n",
    "    ax.errorbar(s2.worker_count, np.array(s2.peak_GBs['mean']), \n",
    "                yerr=np.array(s2.peak_GBs['std']), c=c, label=None)\n",
    "ax.grid(False)\n",
    "ax.set_xlim(0, 2900)\n",
    "ax.set_ylim(0, 90)\n",
    "ax.set_xlabel('workers')\n",
    "ax.spines['top'].set_visible(False)\n",
    "ax.spines['right'].set_visible(False)\n",
    "ax.set_yticks([0, 80])\n",
    "ax.set_xticks([0, 2800])\n",
    "ax.set_ylabel('aggregate GB/s')\n",
    "ax.legend(loc='upper left')\n",
    "fig.tight_layout()\n",
    "fig.savefig(\"s3_scaling.s3_agg_tput.png\")\n",
    "#s.peak_TFLOPS['mean']"
   ]
  },
  {
   "cell_type": "code",
   "execution_count": 14,
   "metadata": {
    "ExecuteTime": {
     "end_time": "2017-03-01T05:00:38.132180",
     "start_time": "2017-03-01T05:00:37.338395"
    },
    "run_control": {
     "frozen": false,
     "read_only": false
    }
   },
   "outputs": [
    {
     "data": {
      "image/png": "[encoded data removed]",
      "text/plain": [
       "<Figure size 216x216 with 1 Axes>"
      ]
     },
     "metadata": {},
     "output_type": "display_data"
    }
   ],
   "source": [
    "big_exp = expdf[expdf.workers == 2800]\n",
    "\n",
    "txn_rate_df = job_results_df[['keyname', 's3_txn_rate', 'phase']]\n",
    "a = pd.merge(big_exp, txn_rate_df, on='keyname')\n",
    "fig = pylab.figure(figsize=(3, 3))\n",
    "ax = fig.add_subplot(1, 1, 1)\n",
    "bins = np.linspace(20, 70, 25, endpoint=False)\n",
    "for phase in ['read', 'write']:\n",
    "    sns.distplot(a[a.phase == phase].s3_txn_rate, bins=bins, kde=True, kde_kws={\"bw\" : 1.0}, \n",
    "                 color=colors[phase], label=phase)\n",
    "ax.grid(False)\n",
    "ax.legend()\n",
    "ax.set_xlim(20, 70)\n",
    "#ax.set_ylim(0, 0.2)\n",
    "ax.set_xlabel('rate (MB/s)')\n",
    "ax.spines['top'].set_visible(False)\n",
    "ax.spines['right'].set_visible(False)\n",
    "ax.set_yticks([0, .15])\n",
    "ax.set_ylabel('fraction of txn')\n",
    "fig.tight_layout()\n",
    "fig.savefig(\"ms3_scaling.s3_txn_rate.png\")"
   ]
  },
  {
   "cell_type": "code",
   "execution_count": 15,
   "metadata": {
    "ExecuteTime": {
     "end_time": "2017-03-01T05:01:26.446069",
     "start_time": "2017-03-01T05:01:25.709968"
    },
    "run_control": {
     "frozen": false,
     "read_only": false
    }
   },
   "outputs": [
    {
     "data": {
      "image/png": "[encoded data removed]",
      "text/plain": [
       "<Figure size 252x252 with 2 Axes>"
      ]
     },
     "metadata": {},
     "output_type": "display_data"
    }
   ],
   "source": [
    "current_palette = sns.color_palette()\n",
    "colors = {'read' : current_palette[0], 'write' : current_palette[1]}\n",
    "s = peak_df.groupby(['worker_count', 'phase']).agg({'peak_GBs' : ['mean', 'std', 'min', 'max']}).reset_index()\n",
    "fig = pylab.figure(figsize=(3.5, 3.5))\n",
    "ax = fig.add_subplot(1, 1, 1)\n",
    "\n",
    "for phase in ['read', 'write']:\n",
    "    s2 = s[s.phase == phase]\n",
    "    c = colors[phase]\n",
    "    ax.plot(s2.worker_count, s2.peak_GBs['mean'], c=c, label=phase)\n",
    "    ax.scatter(s2.worker_count, s2.peak_GBs['mean'], c=c, label=None)\n",
    "    ax.errorbar(s2.worker_count, np.array(s2.peak_GBs['mean']), \n",
    "                yerr=np.array(s2.peak_GBs['std']), c=c, label=None)\n",
    "ax.grid(False)\n",
    "ax.set_xlim(0, 2900)\n",
    "ax.set_ylim(0, 95)\n",
    "ax.set_xlabel('workers')\n",
    "ax.spines['top'].set_visible(False)\n",
    "ax.spines['right'].set_visible(False)\n",
    "ax.set_yticks([0, 20, 40, 60, 80])\n",
    "ax.set_ylabel('aggregate GB/s')\n",
    "ax.legend(loc='upper left')\n",
    "fig.tight_layout()\n",
    "\n",
    "#ax_insert = fig.add_axes([.3, .65, .3, .3])\n",
    "ax_insert = fig.add_axes([.65, .33, .3, .3])\n",
    "\n",
    "for phase in ['read', 'write']:\n",
    "    sns.distplot(a[a.phase == phase].s3_txn_rate, bins=bins, kde=True, kde_kws={\"bw\" : 1.0}, \n",
    "                 color=colors[phase], label=phase)\n",
    "ax_insert.grid(False)\n",
    "#ax_insert.legend()\n",
    "ax_insert.set_xlim(20, 70)\n",
    "#ax.set_ylim(0, 0.2)\n",
    "ax_insert.set_xlabel('rate (MB/s)')\n",
    "#ax_insert.spines['top'].set_visible(False)\n",
    "#ax_insert.spines['right'].set_visible(False)\n",
    "ax_insert.set_yticks([]) # 0, .15])\n",
    "ax_insert.set_ylabel('')\n",
    "\n",
    "\n",
    "fig.savefig(\"s3_scaling.s3_agg_tput_combined.png\")\n",
    "#s.peak_TFLOPS['mean']"
   ]
  }
 ],
 "metadata": {
  "anaconda-cloud": {},
  "kernelspec": {
   "display_name": "Python 3",
   "language": "python",
   "name": "python3"
  },
  "language_info": {
   "codemirror_mode": {
    "name": "ipython",
    "version": 3
   },
   "file_extension": ".py",
   "mimetype": "text/x-python",
   "name": "python",
   "nbconvert_exporter": "python",
   "pygments_lexer": "ipython3",
   "version": "3.6.5"
  },
  "toc": {
   "nav_menu": {
    "height": "12px",
    "width": "252px"
   },
   "navigate_menu": true,
   "number_sections": true,
   "sideBar": true,
   "threshold": 4,
   "toc_cell": false,
   "toc_section_display": "block",
   "toc_window_display": false
  }
 },
 "nbformat": 4,
 "nbformat_minor": 1
}
